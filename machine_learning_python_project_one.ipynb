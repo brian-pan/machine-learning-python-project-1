{
  "nbformat": 4,
  "nbformat_minor": 0,
  "metadata": {
    "kernelspec": {
      "display_name": "Python 3",
      "language": "python",
      "name": "python3"
    },
    "language_info": {
      "codemirror_mode": {
        "name": "ipython",
        "version": 3
      },
      "file_extension": ".py",
      "mimetype": "text/x-python",
      "name": "python",
      "nbconvert_exporter": "python",
      "pygments_lexer": "ipython3",
      "version": "3.7.4"
    },
    "colab": {
      "name": "machine_learning_python_project_one.ipynb",
      "provenance": [],
      "collapsed_sections": []
    }
  },
  "cells": [
    {
      "cell_type": "markdown",
      "metadata": {
        "id": "ZbJm1G5aLSQ4",
        "colab_type": "text"
      },
      "source": [
        "### MACHINE LEARNING PROJECT 1\n",
        "\n",
        "#### TOPIC: FATAL ACCIDENTS PREDICTION IN UK\n",
        "#### DATA: OPEN SOURSE DATA FROM UK DEPARTMENT OF TRANSPORT\n",
        "##### BY BRIAN"
      ]
    },
    {
      "cell_type": "code",
      "metadata": {
        "id": "eKmW1k-PLSQ5",
        "colab_type": "code",
        "colab": {}
      },
      "source": [
        "import numpy as np\n",
        "import pandas as pd\n",
        "import scipy as sp\n",
        "import scipy.stats as stats"
      ],
      "execution_count": 1,
      "outputs": []
    },
    {
      "cell_type": "code",
      "metadata": {
        "id": "Zd8KZYDaLSQ8",
        "colab_type": "code",
        "colab": {
          "base_uri": "https://localhost:8080/",
          "height": 204
        },
        "outputId": "a7b7b79b-a2a9-4471-81dd-9d81942a8ae7"
      },
      "source": [
        "# load dataset\n",
        "!wget https://raw.githubusercontent.com/skyu0221/online-dropbox/master/ml/capstone1/project1/UK_RoadSafety_Accidents.csv"
      ],
      "execution_count": 3,
      "outputs": [
        {
          "output_type": "stream",
          "text": [
            "--2020-07-26 18:13:09--  https://raw.githubusercontent.com/skyu0221/online-dropbox/master/ml/capstone1/project1/UK_RoadSafety_Accidents.csv\n",
            "Resolving raw.githubusercontent.com (raw.githubusercontent.com)... 151.101.0.133, 151.101.64.133, 151.101.128.133, ...\n",
            "Connecting to raw.githubusercontent.com (raw.githubusercontent.com)|151.101.0.133|:443... connected.\n",
            "HTTP request sent, awaiting response... 200 OK\n",
            "Length: 18721065 (18M) [text/plain]\n",
            "Saving to: ‘UK_RoadSafety_Accidents.csv’\n",
            "\n",
            "UK_RoadSafety_Accid 100%[===================>]  17.85M  58.7MB/s    in 0.3s    \n",
            "\n",
            "2020-07-26 18:13:10 (58.7 MB/s) - ‘UK_RoadSafety_Accidents.csv’ saved [18721065/18721065]\n",
            "\n"
          ],
          "name": "stdout"
        }
      ]
    },
    {
      "cell_type": "code",
      "metadata": {
        "id": "3lktc2qgLSQ-",
        "colab_type": "code",
        "colab": {
          "base_uri": "https://localhost:8080/",
          "height": 139
        },
        "outputId": "bd988381-59f9-48f6-8bfb-6078b6781a35"
      },
      "source": [
        "# Features pre-processing and principal component analysis (pca) \n",
        "from sklearn.feature_selection import SelectKBest, f_classif\n",
        "from sklearn import preprocessing\n",
        "from sklearn.preprocessing import StandardScaler\n",
        "from sklearn.decomposition import PCA \n",
        "\n",
        "# Train-test split\n",
        "from sklearn.model_selection import train_test_split\n",
        "\n",
        "# Classifiers \n",
        "from sklearn.neighbors import KNeighborsClassifier\n",
        "from sklearn.svm import SVC\n",
        "from sklearn.linear_model import LogisticRegression\n",
        "from sklearn.ensemble import RandomForestClassifier, GradientBoostingClassifier, AdaBoostClassifier, VotingClassifier\n",
        "\n",
        "# Classifiers ensembling\n",
        "import xgboost as xgb\n",
        "from xgboost.sklearn import XGBClassifier\n",
        "from mlxtend.classifier import StackingClassifier\n",
        "\n",
        "# Classifiers evaluation metrics\n",
        "from sklearn.metrics import accuracy_score, roc_auc_score, auc, roc_curve\n",
        "from sklearn.model_selection import cross_val_score\n",
        "from sklearn.metrics import confusion_matrix\n",
        "from sklearn.metrics import classification_report\n",
        "from sklearn.metrics import matthews_corrcoef\n",
        "\n",
        "# Random resampling\n",
        "from imblearn.under_sampling import RandomUnderSampler\n",
        "from collections import Counter\n",
        "\n",
        "# Tuning hyperparameters\n",
        "from sklearn.model_selection import RandomizedSearchCV\n",
        "\n",
        "# Other\n",
        "from time import time\n",
        "from scipy.stats import ttest_ind\n",
        "\n",
        "# Ploting\n",
        "from matplotlib import pyplot as plt\n",
        "%matplotlib inline\n",
        "import seaborn as sns\n",
        "sns.set_style('darkgrid')\n",
        "from IPython.display import display\n",
        "pd.options.display.float_format = '{:.3f}'.format\n",
        "\n",
        "# Suppressing annoying harmless error\n",
        "import warnings\n",
        "warnings.filterwarnings(\n",
        "    action=\"ignore\",\n",
        "    module=\"scipy\",\n",
        "    message=\"^internal gelsd\"\n",
        ")"
      ],
      "execution_count": 4,
      "outputs": [
        {
          "output_type": "stream",
          "text": [
            "/usr/local/lib/python3.6/dist-packages/sklearn/externals/six.py:31: FutureWarning: The module is deprecated in version 0.21 and will be removed in version 0.23 since we've dropped support for Python 2.7. Please rely on the official version of six (https://pypi.org/project/six/).\n",
            "  \"(https://pypi.org/project/six/).\", FutureWarning)\n",
            "/usr/local/lib/python3.6/dist-packages/sklearn/utils/deprecation.py:144: FutureWarning: The sklearn.neighbors.base module is  deprecated in version 0.22 and will be removed in version 0.24. The corresponding classes / functions should instead be imported from sklearn.neighbors. Anything that cannot be imported from sklearn.neighbors is now part of the private API.\n",
            "  warnings.warn(message, FutureWarning)\n",
            "/usr/local/lib/python3.6/dist-packages/statsmodels/tools/_testing.py:19: FutureWarning: pandas.util.testing is deprecated. Use the functions in the public API at pandas.testing instead.\n",
            "  import pandas.util.testing as tm\n"
          ],
          "name": "stderr"
        }
      ]
    },
    {
      "cell_type": "code",
      "metadata": {
        "id": "P2ssRyKkLSRA",
        "colab_type": "code",
        "colab": {}
      },
      "source": [
        "# define new print function which contains color option\n",
        "import sys\n",
        "\n",
        "python_print = print\n",
        "\n",
        "def print(*objects, sep=' ', end='\\n', file=sys.stdout, color=(), fit_len=-1):\n",
        "    line = \"\".join(map(str, objects))\n",
        "    fit_len = max(fit_len - len(line), 0)\n",
        "    for c in color:\n",
        "        if len(objects) > 1:\n",
        "            objects = (f\"\\033[{c}m{objects[0]}\",) + objects[1:-1] + (\n",
        "                f\"{objects[-1]}{' ' * fit_len}\\033[0m\",)\n",
        "        elif len(objects) == 1:\n",
        "            objects = (f\"\\033[{c}m{objects[0]}{' ' * fit_len}\\033[0m\",)\n",
        "    python_print(*objects, sep=sep, end=end, file=file)"
      ],
      "execution_count": null,
      "outputs": []
    }
  ]
}
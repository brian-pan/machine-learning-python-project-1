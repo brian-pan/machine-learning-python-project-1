{
  "nbformat": 4,
  "nbformat_minor": 0,
  "metadata": {
    "kernelspec": {
      "display_name": "Python 3",
      "language": "python",
      "name": "python3"
    },
    "language_info": {
      "codemirror_mode": {
        "name": "ipython",
        "version": 3
      },
      "file_extension": ".py",
      "mimetype": "text/x-python",
      "name": "python",
      "nbconvert_exporter": "python",
      "pygments_lexer": "ipython3",
      "version": "3.7.4"
    },
    "colab": {
      "name": "machine_learning_python_project_one.ipynb",
      "provenance": [],
      "collapsed_sections": []
    }
  },
  "cells": [
    {
      "cell_type": "markdown",
      "metadata": {
        "id": "ZbJm1G5aLSQ4",
        "colab_type": "text"
      },
      "source": [
        "### MACHINE LEARNING PROJECT 1\n",
        "\n",
        "#### TOPIC: FATAL ACCIDENTS PREDICTION IN UK\n",
        "#### DATA: OPEN SOURSE DATA FROM UK DEPARTMENT OF TRANSPORT\n",
        "##### BY BRIAN"
      ]
    },
    {
      "cell_type": "code",
      "metadata": {
        "id": "eKmW1k-PLSQ5",
        "colab_type": "code",
        "colab": {}
      },
      "source": [
        "import numpy as np\n",
        "import pandas as pd\n",
        "import scipy as sp\n",
        "import scipy.stats as stats"
      ],
      "execution_count": 1,
      "outputs": []
    },
    {
      "cell_type": "code",
      "metadata": {
        "id": "3lktc2qgLSQ-",
        "colab_type": "code",
        "colab": {
          "base_uri": "https://localhost:8080/",
          "height": 139
        },
        "outputId": "63e0d086-27f5-4eb9-dfbb-4584ac154339"
      },
      "source": [
        "# Features pre-processing and principal component analysis (pca) \n",
        "from sklearn.feature_selection import SelectKBest, f_classif\n",
        "from sklearn import preprocessing\n",
        "from sklearn.preprocessing import StandardScaler\n",
        "from sklearn.decomposition import PCA \n",
        "\n",
        "# Train-test split\n",
        "from sklearn.model_selection import train_test_split\n",
        "\n",
        "# Classifiers \n",
        "from sklearn.neighbors import KNeighborsClassifier\n",
        "from sklearn.svm import SVC\n",
        "from sklearn.linear_model import LogisticRegression\n",
        "from sklearn.ensemble import RandomForestClassifier, GradientBoostingClassifier, AdaBoostClassifier, VotingClassifier\n",
        "\n",
        "# Classifiers ensembling\n",
        "import xgboost as xgb\n",
        "from xgboost.sklearn import XGBClassifier\n",
        "from mlxtend.classifier import StackingClassifier\n",
        "\n",
        "# Classifiers evaluation metrics\n",
        "from sklearn.metrics import accuracy_score, roc_auc_score, auc, roc_curve\n",
        "from sklearn.model_selection import cross_val_score\n",
        "from sklearn.metrics import confusion_matrix\n",
        "from sklearn.metrics import classification_report\n",
        "from sklearn.metrics import matthews_corrcoef\n",
        "\n",
        "# Random resampling\n",
        "from imblearn.under_sampling import RandomUnderSampler\n",
        "from collections import Counter\n",
        "\n",
        "# Tuning hyperparameters\n",
        "from sklearn.model_selection import RandomizedSearchCV\n",
        "\n",
        "# Other\n",
        "from time import time\n",
        "from scipy.stats import ttest_ind\n",
        "\n",
        "# Ploting\n",
        "from matplotlib import pyplot as plt\n",
        "%matplotlib inline\n",
        "import seaborn as sns\n",
        "sns.set_style('darkgrid')\n",
        "from IPython.display import display\n",
        "pd.options.display.float_format = '{:.3f}'.format\n",
        "\n",
        "# Suppressing annoying harmless error\n",
        "import warnings\n",
        "warnings.filterwarnings(\n",
        "    action=\"ignore\",\n",
        "    module=\"scipy\",\n",
        "    message=\"^internal gelsd\"\n",
        ")"
      ],
      "execution_count": 2,
      "outputs": [
        {
          "output_type": "stream",
          "text": [
            "/usr/local/lib/python3.6/dist-packages/sklearn/externals/six.py:31: FutureWarning: The module is deprecated in version 0.21 and will be removed in version 0.23 since we've dropped support for Python 2.7. Please rely on the official version of six (https://pypi.org/project/six/).\n",
            "  \"(https://pypi.org/project/six/).\", FutureWarning)\n",
            "/usr/local/lib/python3.6/dist-packages/sklearn/utils/deprecation.py:144: FutureWarning: The sklearn.neighbors.base module is  deprecated in version 0.22 and will be removed in version 0.24. The corresponding classes / functions should instead be imported from sklearn.neighbors. Anything that cannot be imported from sklearn.neighbors is now part of the private API.\n",
            "  warnings.warn(message, FutureWarning)\n",
            "/usr/local/lib/python3.6/dist-packages/statsmodels/tools/_testing.py:19: FutureWarning: pandas.util.testing is deprecated. Use the functions in the public API at pandas.testing instead.\n",
            "  import pandas.util.testing as tm\n"
          ],
          "name": "stderr"
        }
      ]
    },
    {
      "cell_type": "code",
      "metadata": {
        "id": "P2ssRyKkLSRA",
        "colab_type": "code",
        "colab": {}
      },
      "source": [
        "# define new print function which contains color option\n",
        "import sys\n",
        "\n",
        "python_print = print\n",
        "\n",
        "def print(*objects, sep=' ', end='\\n', file=sys.stdout, color=(), fit_len=-1):\n",
        "    line = \"\".join(map(str, objects))\n",
        "    fit_len = max(fit_len - len(line), 0)\n",
        "    for c in color:\n",
        "        if len(objects) > 1:\n",
        "            objects = (f\"\\033[{c}m{objects[0]}\",) + objects[1:-1] + (\n",
        "                f\"{objects[-1]}{' ' * fit_len}\\033[0m\",)\n",
        "        elif len(objects) == 1:\n",
        "            objects = (f\"\\033[{c}m{objects[0]}{' ' * fit_len}\\033[0m\",)\n",
        "    python_print(*objects, sep=sep, end=end, file=file)"
      ],
      "execution_count": 3,
      "outputs": []
    },
    {
      "cell_type": "markdown",
      "metadata": {
        "id": "CtMlg5thNSDg",
        "colab_type": "text"
      },
      "source": [
        "## Step 1: Data preprocessing"
      ]
    },
    {
      "cell_type": "code",
      "metadata": {
        "id": "ZL176H5JMjjT",
        "colab_type": "code",
        "colab": {
          "base_uri": "https://localhost:8080/",
          "height": 238
        },
        "outputId": "deb9c367-a95c-44b7-c0cc-20a799bb3843"
      },
      "source": [
        "# download dataset\n",
        "!wget https://raw.githubusercontent.com/skyu0221/online-dropbox/master/ml/capstone1/project1/UK_RoadSafety_Accidents.csv\n",
        "\n",
        "# load data\n",
        "df = pd.read_csv(\"UK_RoadSafety_Accidents.csv\") # df=dataframe"
      ],
      "execution_count": 4,
      "outputs": [
        {
          "output_type": "stream",
          "text": [
            "--2020-07-26 23:06:56--  https://raw.githubusercontent.com/skyu0221/online-dropbox/master/ml/capstone1/project1/UK_RoadSafety_Accidents.csv\n",
            "Resolving raw.githubusercontent.com (raw.githubusercontent.com)... 151.101.0.133, 151.101.64.133, 151.101.128.133, ...\n",
            "Connecting to raw.githubusercontent.com (raw.githubusercontent.com)|151.101.0.133|:443... connected.\n",
            "HTTP request sent, awaiting response... 200 OK\n",
            "Length: 18721065 (18M) [text/plain]\n",
            "Saving to: ‘UK_RoadSafety_Accidents.csv’\n",
            "\n",
            "UK_RoadSafety_Accid 100%[===================>]  17.85M  42.9MB/s    in 0.4s    \n",
            "\n",
            "2020-07-26 23:06:57 (42.9 MB/s) - ‘UK_RoadSafety_Accidents.csv’ saved [18721065/18721065]\n",
            "\n"
          ],
          "name": "stdout"
        },
        {
          "output_type": "stream",
          "text": [
            "/usr/local/lib/python3.6/dist-packages/IPython/core/interactiveshell.py:2718: DtypeWarning: Columns (31) have mixed types.Specify dtype option on import or set low_memory=False.\n",
            "  interactivity=interactivity, compiler=compiler, result=result)\n"
          ],
          "name": "stderr"
        }
      ]
    },
    {
      "cell_type": "code",
      "metadata": {
        "id": "OEnQCJxYM3my",
        "colab_type": "code",
        "colab": {
          "base_uri": "https://localhost:8080/",
          "height": 680
        },
        "outputId": "c34a79c1-9343-4667-9b74-911dca9d7a90"
      },
      "source": [
        "# print info\n",
        "df.info()"
      ],
      "execution_count": 5,
      "outputs": [
        {
          "output_type": "stream",
          "text": [
            "<class 'pandas.core.frame.DataFrame'>\n",
            "RangeIndex: 136621 entries, 0 to 136620\n",
            "Data columns (total 32 columns):\n",
            " #   Column                                       Non-Null Count   Dtype  \n",
            "---  ------                                       --------------   -----  \n",
            " 0   Accident_Index                               136621 non-null  object \n",
            " 1   Location_Easting_OSGR                        136614 non-null  float64\n",
            " 2   Location_Northing_OSGR                       136614 non-null  float64\n",
            " 3   Longitude                                    136614 non-null  float64\n",
            " 4   Latitude                                     136614 non-null  float64\n",
            " 5   Police_Force                                 136621 non-null  int64  \n",
            " 6   Accident_Severity                            136621 non-null  int64  \n",
            " 7   Number_of_Vehicles                           136621 non-null  int64  \n",
            " 8   Number_of_Casualties                         136621 non-null  int64  \n",
            " 9   Date                                         136621 non-null  object \n",
            " 10  Day_of_Week                                  136621 non-null  int64  \n",
            " 11  Time                                         136619 non-null  object \n",
            " 12  Local_Authority_(District)                   136621 non-null  int64  \n",
            " 13  Local_Authority_(Highway)                    136621 non-null  object \n",
            " 14  1st_Road_Class                               136621 non-null  int64  \n",
            " 15  1st_Road_Number                              136621 non-null  int64  \n",
            " 16  Road_Type                                    136621 non-null  int64  \n",
            " 17  Speed_limit                                  136584 non-null  float64\n",
            " 18  Junction_Detail                              136621 non-null  int64  \n",
            " 19  Junction_Control                             136621 non-null  int64  \n",
            " 20  2nd_Road_Class                               136621 non-null  int64  \n",
            " 21  2nd_Road_Number                              136621 non-null  int64  \n",
            " 22  Pedestrian_Crossing-Human_Control            136621 non-null  int64  \n",
            " 23  Pedestrian_Crossing-Physical_Facilities      136621 non-null  int64  \n",
            " 24  Light_Conditions                             136621 non-null  int64  \n",
            " 25  Weather_Conditions                           136621 non-null  int64  \n",
            " 26  Road_Surface_Conditions                      136621 non-null  int64  \n",
            " 27  Special_Conditions_at_Site                   136621 non-null  int64  \n",
            " 28  Carriageway_Hazards                          136621 non-null  int64  \n",
            " 29  Urban_or_Rural_Area                          136621 non-null  int64  \n",
            " 30  Did_Police_Officer_Attend_Scene_of_Accident  136621 non-null  int64  \n",
            " 31  LSOA_of_Accident_Location                    128270 non-null  object \n",
            "dtypes: float64(5), int64(22), object(5)\n",
            "memory usage: 33.4+ MB\n"
          ],
          "name": "stdout"
        }
      ]
    },
    {
      "cell_type": "markdown",
      "metadata": {
        "id": "h07YZGI-Q7VC",
        "colab_type": "text"
      },
      "source": [
        "## Step 2: Data Cleaning\n"
      ]
    },
    {
      "cell_type": "code",
      "metadata": {
        "id": "-sO2aL1DN3IZ",
        "colab_type": "code",
        "colab": {
          "base_uri": "https://localhost:8080/",
          "height": 241
        },
        "outputId": "8ee8f49b-69af-4258-88a8-d47947df77ad"
      },
      "source": [
        "df.head()"
      ],
      "execution_count": 6,
      "outputs": [
        {
          "output_type": "execute_result",
          "data": {
            "text/html": [
              "<div>\n",
              "<style scoped>\n",
              "    .dataframe tbody tr th:only-of-type {\n",
              "        vertical-align: middle;\n",
              "    }\n",
              "\n",
              "    .dataframe tbody tr th {\n",
              "        vertical-align: top;\n",
              "    }\n",
              "\n",
              "    .dataframe thead th {\n",
              "        text-align: right;\n",
              "    }\n",
              "</style>\n",
              "<table border=\"1\" class=\"dataframe\">\n",
              "  <thead>\n",
              "    <tr style=\"text-align: right;\">\n",
              "      <th></th>\n",
              "      <th>Accident_Index</th>\n",
              "      <th>Location_Easting_OSGR</th>\n",
              "      <th>Location_Northing_OSGR</th>\n",
              "      <th>Longitude</th>\n",
              "      <th>Latitude</th>\n",
              "      <th>Police_Force</th>\n",
              "      <th>Accident_Severity</th>\n",
              "      <th>Number_of_Vehicles</th>\n",
              "      <th>Number_of_Casualties</th>\n",
              "      <th>Date</th>\n",
              "      <th>Day_of_Week</th>\n",
              "      <th>Time</th>\n",
              "      <th>Local_Authority_(District)</th>\n",
              "      <th>Local_Authority_(Highway)</th>\n",
              "      <th>1st_Road_Class</th>\n",
              "      <th>1st_Road_Number</th>\n",
              "      <th>Road_Type</th>\n",
              "      <th>Speed_limit</th>\n",
              "      <th>Junction_Detail</th>\n",
              "      <th>Junction_Control</th>\n",
              "      <th>2nd_Road_Class</th>\n",
              "      <th>2nd_Road_Number</th>\n",
              "      <th>Pedestrian_Crossing-Human_Control</th>\n",
              "      <th>Pedestrian_Crossing-Physical_Facilities</th>\n",
              "      <th>Light_Conditions</th>\n",
              "      <th>Weather_Conditions</th>\n",
              "      <th>Road_Surface_Conditions</th>\n",
              "      <th>Special_Conditions_at_Site</th>\n",
              "      <th>Carriageway_Hazards</th>\n",
              "      <th>Urban_or_Rural_Area</th>\n",
              "      <th>Did_Police_Officer_Attend_Scene_of_Accident</th>\n",
              "      <th>LSOA_of_Accident_Location</th>\n",
              "    </tr>\n",
              "  </thead>\n",
              "  <tbody>\n",
              "    <tr>\n",
              "      <th>0</th>\n",
              "      <td>2016010000005</td>\n",
              "      <td>519310.000</td>\n",
              "      <td>188730.000</td>\n",
              "      <td>-0.279</td>\n",
              "      <td>51.585</td>\n",
              "      <td>1</td>\n",
              "      <td>3</td>\n",
              "      <td>2</td>\n",
              "      <td>1</td>\n",
              "      <td>01/11/2016</td>\n",
              "      <td>3</td>\n",
              "      <td>02:30</td>\n",
              "      <td>28</td>\n",
              "      <td>E09000005</td>\n",
              "      <td>3</td>\n",
              "      <td>4006</td>\n",
              "      <td>6</td>\n",
              "      <td>30.000</td>\n",
              "      <td>0</td>\n",
              "      <td>-1</td>\n",
              "      <td>-1</td>\n",
              "      <td>0</td>\n",
              "      <td>0</td>\n",
              "      <td>0</td>\n",
              "      <td>5</td>\n",
              "      <td>1</td>\n",
              "      <td>1</td>\n",
              "      <td>0</td>\n",
              "      <td>0</td>\n",
              "      <td>1</td>\n",
              "      <td>1</td>\n",
              "      <td>E01000543</td>\n",
              "    </tr>\n",
              "    <tr>\n",
              "      <th>1</th>\n",
              "      <td>2016010000006</td>\n",
              "      <td>551920.000</td>\n",
              "      <td>174560.000</td>\n",
              "      <td>0.185</td>\n",
              "      <td>51.450</td>\n",
              "      <td>1</td>\n",
              "      <td>3</td>\n",
              "      <td>1</td>\n",
              "      <td>1</td>\n",
              "      <td>01/11/2016</td>\n",
              "      <td>3</td>\n",
              "      <td>00:37</td>\n",
              "      <td>18</td>\n",
              "      <td>E09000004</td>\n",
              "      <td>3</td>\n",
              "      <td>207</td>\n",
              "      <td>6</td>\n",
              "      <td>30.000</td>\n",
              "      <td>9</td>\n",
              "      <td>4</td>\n",
              "      <td>6</td>\n",
              "      <td>0</td>\n",
              "      <td>0</td>\n",
              "      <td>0</td>\n",
              "      <td>4</td>\n",
              "      <td>1</td>\n",
              "      <td>1</td>\n",
              "      <td>0</td>\n",
              "      <td>0</td>\n",
              "      <td>1</td>\n",
              "      <td>1</td>\n",
              "      <td>E01000375</td>\n",
              "    </tr>\n",
              "    <tr>\n",
              "      <th>2</th>\n",
              "      <td>2016010000008</td>\n",
              "      <td>505930.000</td>\n",
              "      <td>183850.000</td>\n",
              "      <td>-0.474</td>\n",
              "      <td>51.544</td>\n",
              "      <td>1</td>\n",
              "      <td>3</td>\n",
              "      <td>1</td>\n",
              "      <td>1</td>\n",
              "      <td>01/11/2016</td>\n",
              "      <td>3</td>\n",
              "      <td>01:25</td>\n",
              "      <td>26</td>\n",
              "      <td>E09000017</td>\n",
              "      <td>3</td>\n",
              "      <td>4020</td>\n",
              "      <td>1</td>\n",
              "      <td>30.000</td>\n",
              "      <td>1</td>\n",
              "      <td>4</td>\n",
              "      <td>3</td>\n",
              "      <td>4020</td>\n",
              "      <td>0</td>\n",
              "      <td>0</td>\n",
              "      <td>4</td>\n",
              "      <td>1</td>\n",
              "      <td>1</td>\n",
              "      <td>0</td>\n",
              "      <td>0</td>\n",
              "      <td>1</td>\n",
              "      <td>1</td>\n",
              "      <td>E01033725</td>\n",
              "    </tr>\n",
              "    <tr>\n",
              "      <th>3</th>\n",
              "      <td>2016010000016</td>\n",
              "      <td>527770.000</td>\n",
              "      <td>168930.000</td>\n",
              "      <td>-0.164</td>\n",
              "      <td>51.405</td>\n",
              "      <td>1</td>\n",
              "      <td>3</td>\n",
              "      <td>1</td>\n",
              "      <td>1</td>\n",
              "      <td>01/11/2016</td>\n",
              "      <td>3</td>\n",
              "      <td>09:15</td>\n",
              "      <td>22</td>\n",
              "      <td>E09000024</td>\n",
              "      <td>3</td>\n",
              "      <td>217</td>\n",
              "      <td>6</td>\n",
              "      <td>30.000</td>\n",
              "      <td>3</td>\n",
              "      <td>2</td>\n",
              "      <td>3</td>\n",
              "      <td>217</td>\n",
              "      <td>0</td>\n",
              "      <td>0</td>\n",
              "      <td>1</td>\n",
              "      <td>1</td>\n",
              "      <td>1</td>\n",
              "      <td>0</td>\n",
              "      <td>0</td>\n",
              "      <td>1</td>\n",
              "      <td>1</td>\n",
              "      <td>E01003379</td>\n",
              "    </tr>\n",
              "    <tr>\n",
              "      <th>4</th>\n",
              "      <td>2016010000018</td>\n",
              "      <td>510740.000</td>\n",
              "      <td>177230.000</td>\n",
              "      <td>-0.407</td>\n",
              "      <td>51.483</td>\n",
              "      <td>1</td>\n",
              "      <td>3</td>\n",
              "      <td>2</td>\n",
              "      <td>1</td>\n",
              "      <td>01/11/2016</td>\n",
              "      <td>3</td>\n",
              "      <td>07:53</td>\n",
              "      <td>25</td>\n",
              "      <td>E09000018</td>\n",
              "      <td>3</td>\n",
              "      <td>312</td>\n",
              "      <td>3</td>\n",
              "      <td>40.000</td>\n",
              "      <td>0</td>\n",
              "      <td>-1</td>\n",
              "      <td>-1</td>\n",
              "      <td>0</td>\n",
              "      <td>0</td>\n",
              "      <td>0</td>\n",
              "      <td>1</td>\n",
              "      <td>1</td>\n",
              "      <td>1</td>\n",
              "      <td>0</td>\n",
              "      <td>0</td>\n",
              "      <td>1</td>\n",
              "      <td>1</td>\n",
              "      <td>E01002583</td>\n",
              "    </tr>\n",
              "  </tbody>\n",
              "</table>\n",
              "</div>"
            ],
            "text/plain": [
              "  Accident_Index  ...  LSOA_of_Accident_Location\n",
              "0  2016010000005  ...                  E01000543\n",
              "1  2016010000006  ...                  E01000375\n",
              "2  2016010000008  ...                  E01033725\n",
              "3  2016010000016  ...                  E01003379\n",
              "4  2016010000018  ...                  E01002583\n",
              "\n",
              "[5 rows x 32 columns]"
            ]
          },
          "metadata": {
            "tags": []
          },
          "execution_count": 6
        }
      ]
    },
    {
      "cell_type": "code",
      "metadata": {
        "id": "ICussFQdAwFM",
        "colab_type": "code",
        "colab": {
          "base_uri": "https://localhost:8080/",
          "height": 34
        },
        "outputId": "dd5e281d-c8d6-42c3-a6a4-63ed12a5af7e"
      },
      "source": [
        "df.shape"
      ],
      "execution_count": 7,
      "outputs": [
        {
          "output_type": "execute_result",
          "data": {
            "text/plain": [
              "(136621, 32)"
            ]
          },
          "metadata": {
            "tags": []
          },
          "execution_count": 7
        }
      ]
    },
    {
      "cell_type": "code",
      "metadata": {
        "id": "7sfmy2PlA5z9",
        "colab_type": "code",
        "colab": {
          "base_uri": "https://localhost:8080/",
          "height": 578
        },
        "outputId": "e19c61e9-ba0a-4f5f-bbc2-dcb1f28949d4"
      },
      "source": [
        "print(df.isnull().sum())"
      ],
      "execution_count": 8,
      "outputs": [
        {
          "output_type": "stream",
          "text": [
            "Accident_Index                                    0\n",
            "Location_Easting_OSGR                             7\n",
            "Location_Northing_OSGR                            7\n",
            "Longitude                                         7\n",
            "Latitude                                          7\n",
            "Police_Force                                      0\n",
            "Accident_Severity                                 0\n",
            "Number_of_Vehicles                                0\n",
            "Number_of_Casualties                              0\n",
            "Date                                              0\n",
            "Day_of_Week                                       0\n",
            "Time                                              2\n",
            "Local_Authority_(District)                        0\n",
            "Local_Authority_(Highway)                         0\n",
            "1st_Road_Class                                    0\n",
            "1st_Road_Number                                   0\n",
            "Road_Type                                         0\n",
            "Speed_limit                                      37\n",
            "Junction_Detail                                   0\n",
            "Junction_Control                                  0\n",
            "2nd_Road_Class                                    0\n",
            "2nd_Road_Number                                   0\n",
            "Pedestrian_Crossing-Human_Control                 0\n",
            "Pedestrian_Crossing-Physical_Facilities           0\n",
            "Light_Conditions                                  0\n",
            "Weather_Conditions                                0\n",
            "Road_Surface_Conditions                           0\n",
            "Special_Conditions_at_Site                        0\n",
            "Carriageway_Hazards                               0\n",
            "Urban_or_Rural_Area                               0\n",
            "Did_Police_Officer_Attend_Scene_of_Accident       0\n",
            "LSOA_of_Accident_Location                      8351\n",
            "dtype: int64\n"
          ],
          "name": "stdout"
        }
      ]
    },
    {
      "cell_type": "code",
      "metadata": {
        "id": "6LMz5cPSWdZ6",
        "colab_type": "code",
        "colab": {}
      },
      "source": [
        "# LSOA_of_Accident_Location stands for \"Lower Super Ouput Area of \n",
        "# Accident_Location (England & Wales only)\", therefore it's not very useful\n",
        "df = df.drop(['LSOA_of_Accident_Location'], axis=1)\n",
        "df = df.dropna(axis=0, how='any') ## side note: axis=0 means x-axis, axis=1 means y-axis."
      ],
      "execution_count": 9,
      "outputs": []
    },
    {
      "cell_type": "code",
      "metadata": {
        "id": "KAskcrxpi71P",
        "colab_type": "code",
        "colab": {
          "base_uri": "https://localhost:8080/",
          "height": 561
        },
        "outputId": "0f006a88-f6a1-45ad-f7c2-2540e0db53d2"
      },
      "source": [
        "# re-run previous fn\n",
        "print(df.isnull().sum()) # isnull fn: true=1, false=0"
      ],
      "execution_count": 10,
      "outputs": [
        {
          "output_type": "stream",
          "text": [
            "Accident_Index                                 0\n",
            "Location_Easting_OSGR                          0\n",
            "Location_Northing_OSGR                         0\n",
            "Longitude                                      0\n",
            "Latitude                                       0\n",
            "Police_Force                                   0\n",
            "Accident_Severity                              0\n",
            "Number_of_Vehicles                             0\n",
            "Number_of_Casualties                           0\n",
            "Date                                           0\n",
            "Day_of_Week                                    0\n",
            "Time                                           0\n",
            "Local_Authority_(District)                     0\n",
            "Local_Authority_(Highway)                      0\n",
            "1st_Road_Class                                 0\n",
            "1st_Road_Number                                0\n",
            "Road_Type                                      0\n",
            "Speed_limit                                    0\n",
            "Junction_Detail                                0\n",
            "Junction_Control                               0\n",
            "2nd_Road_Class                                 0\n",
            "2nd_Road_Number                                0\n",
            "Pedestrian_Crossing-Human_Control              0\n",
            "Pedestrian_Crossing-Physical_Facilities        0\n",
            "Light_Conditions                               0\n",
            "Weather_Conditions                             0\n",
            "Road_Surface_Conditions                        0\n",
            "Special_Conditions_at_Site                     0\n",
            "Carriageway_Hazards                            0\n",
            "Urban_or_Rural_Area                            0\n",
            "Did_Police_Officer_Attend_Scene_of_Accident    0\n",
            "dtype: int64\n"
          ],
          "name": "stdout"
        }
      ]
    },
    {
      "cell_type": "code",
      "metadata": {
        "id": "L0uItzKbjCEF",
        "colab_type": "code",
        "colab": {
          "base_uri": "https://localhost:8080/",
          "height": 34
        },
        "outputId": "160e9bd1-64e3-4917-be08-030e7896cd35"
      },
      "source": [
        "df.shape[0] # number of lines remaining"
      ],
      "execution_count": 11,
      "outputs": [
        {
          "output_type": "execute_result",
          "data": {
            "text/plain": [
              "136575"
            ]
          },
          "metadata": {
            "tags": []
          },
          "execution_count": 11
        }
      ]
    },
    {
      "cell_type": "code",
      "metadata": {
        "id": "lnAEBB2iBgtO",
        "colab_type": "code",
        "colab": {
          "base_uri": "https://localhost:8080/",
          "height": 241
        },
        "outputId": "e35c843b-1522-43b1-bca6-2af39047ea0c"
      },
      "source": [
        "df.head(5)"
      ],
      "execution_count": 12,
      "outputs": [
        {
          "output_type": "execute_result",
          "data": {
            "text/html": [
              "<div>\n",
              "<style scoped>\n",
              "    .dataframe tbody tr th:only-of-type {\n",
              "        vertical-align: middle;\n",
              "    }\n",
              "\n",
              "    .dataframe tbody tr th {\n",
              "        vertical-align: top;\n",
              "    }\n",
              "\n",
              "    .dataframe thead th {\n",
              "        text-align: right;\n",
              "    }\n",
              "</style>\n",
              "<table border=\"1\" class=\"dataframe\">\n",
              "  <thead>\n",
              "    <tr style=\"text-align: right;\">\n",
              "      <th></th>\n",
              "      <th>Accident_Index</th>\n",
              "      <th>Location_Easting_OSGR</th>\n",
              "      <th>Location_Northing_OSGR</th>\n",
              "      <th>Longitude</th>\n",
              "      <th>Latitude</th>\n",
              "      <th>Police_Force</th>\n",
              "      <th>Accident_Severity</th>\n",
              "      <th>Number_of_Vehicles</th>\n",
              "      <th>Number_of_Casualties</th>\n",
              "      <th>Date</th>\n",
              "      <th>Day_of_Week</th>\n",
              "      <th>Time</th>\n",
              "      <th>Local_Authority_(District)</th>\n",
              "      <th>Local_Authority_(Highway)</th>\n",
              "      <th>1st_Road_Class</th>\n",
              "      <th>1st_Road_Number</th>\n",
              "      <th>Road_Type</th>\n",
              "      <th>Speed_limit</th>\n",
              "      <th>Junction_Detail</th>\n",
              "      <th>Junction_Control</th>\n",
              "      <th>2nd_Road_Class</th>\n",
              "      <th>2nd_Road_Number</th>\n",
              "      <th>Pedestrian_Crossing-Human_Control</th>\n",
              "      <th>Pedestrian_Crossing-Physical_Facilities</th>\n",
              "      <th>Light_Conditions</th>\n",
              "      <th>Weather_Conditions</th>\n",
              "      <th>Road_Surface_Conditions</th>\n",
              "      <th>Special_Conditions_at_Site</th>\n",
              "      <th>Carriageway_Hazards</th>\n",
              "      <th>Urban_or_Rural_Area</th>\n",
              "      <th>Did_Police_Officer_Attend_Scene_of_Accident</th>\n",
              "    </tr>\n",
              "  </thead>\n",
              "  <tbody>\n",
              "    <tr>\n",
              "      <th>0</th>\n",
              "      <td>2016010000005</td>\n",
              "      <td>519310.000</td>\n",
              "      <td>188730.000</td>\n",
              "      <td>-0.279</td>\n",
              "      <td>51.585</td>\n",
              "      <td>1</td>\n",
              "      <td>3</td>\n",
              "      <td>2</td>\n",
              "      <td>1</td>\n",
              "      <td>01/11/2016</td>\n",
              "      <td>3</td>\n",
              "      <td>02:30</td>\n",
              "      <td>28</td>\n",
              "      <td>E09000005</td>\n",
              "      <td>3</td>\n",
              "      <td>4006</td>\n",
              "      <td>6</td>\n",
              "      <td>30.000</td>\n",
              "      <td>0</td>\n",
              "      <td>-1</td>\n",
              "      <td>-1</td>\n",
              "      <td>0</td>\n",
              "      <td>0</td>\n",
              "      <td>0</td>\n",
              "      <td>5</td>\n",
              "      <td>1</td>\n",
              "      <td>1</td>\n",
              "      <td>0</td>\n",
              "      <td>0</td>\n",
              "      <td>1</td>\n",
              "      <td>1</td>\n",
              "    </tr>\n",
              "    <tr>\n",
              "      <th>1</th>\n",
              "      <td>2016010000006</td>\n",
              "      <td>551920.000</td>\n",
              "      <td>174560.000</td>\n",
              "      <td>0.185</td>\n",
              "      <td>51.450</td>\n",
              "      <td>1</td>\n",
              "      <td>3</td>\n",
              "      <td>1</td>\n",
              "      <td>1</td>\n",
              "      <td>01/11/2016</td>\n",
              "      <td>3</td>\n",
              "      <td>00:37</td>\n",
              "      <td>18</td>\n",
              "      <td>E09000004</td>\n",
              "      <td>3</td>\n",
              "      <td>207</td>\n",
              "      <td>6</td>\n",
              "      <td>30.000</td>\n",
              "      <td>9</td>\n",
              "      <td>4</td>\n",
              "      <td>6</td>\n",
              "      <td>0</td>\n",
              "      <td>0</td>\n",
              "      <td>0</td>\n",
              "      <td>4</td>\n",
              "      <td>1</td>\n",
              "      <td>1</td>\n",
              "      <td>0</td>\n",
              "      <td>0</td>\n",
              "      <td>1</td>\n",
              "      <td>1</td>\n",
              "    </tr>\n",
              "    <tr>\n",
              "      <th>2</th>\n",
              "      <td>2016010000008</td>\n",
              "      <td>505930.000</td>\n",
              "      <td>183850.000</td>\n",
              "      <td>-0.474</td>\n",
              "      <td>51.544</td>\n",
              "      <td>1</td>\n",
              "      <td>3</td>\n",
              "      <td>1</td>\n",
              "      <td>1</td>\n",
              "      <td>01/11/2016</td>\n",
              "      <td>3</td>\n",
              "      <td>01:25</td>\n",
              "      <td>26</td>\n",
              "      <td>E09000017</td>\n",
              "      <td>3</td>\n",
              "      <td>4020</td>\n",
              "      <td>1</td>\n",
              "      <td>30.000</td>\n",
              "      <td>1</td>\n",
              "      <td>4</td>\n",
              "      <td>3</td>\n",
              "      <td>4020</td>\n",
              "      <td>0</td>\n",
              "      <td>0</td>\n",
              "      <td>4</td>\n",
              "      <td>1</td>\n",
              "      <td>1</td>\n",
              "      <td>0</td>\n",
              "      <td>0</td>\n",
              "      <td>1</td>\n",
              "      <td>1</td>\n",
              "    </tr>\n",
              "    <tr>\n",
              "      <th>3</th>\n",
              "      <td>2016010000016</td>\n",
              "      <td>527770.000</td>\n",
              "      <td>168930.000</td>\n",
              "      <td>-0.164</td>\n",
              "      <td>51.405</td>\n",
              "      <td>1</td>\n",
              "      <td>3</td>\n",
              "      <td>1</td>\n",
              "      <td>1</td>\n",
              "      <td>01/11/2016</td>\n",
              "      <td>3</td>\n",
              "      <td>09:15</td>\n",
              "      <td>22</td>\n",
              "      <td>E09000024</td>\n",
              "      <td>3</td>\n",
              "      <td>217</td>\n",
              "      <td>6</td>\n",
              "      <td>30.000</td>\n",
              "      <td>3</td>\n",
              "      <td>2</td>\n",
              "      <td>3</td>\n",
              "      <td>217</td>\n",
              "      <td>0</td>\n",
              "      <td>0</td>\n",
              "      <td>1</td>\n",
              "      <td>1</td>\n",
              "      <td>1</td>\n",
              "      <td>0</td>\n",
              "      <td>0</td>\n",
              "      <td>1</td>\n",
              "      <td>1</td>\n",
              "    </tr>\n",
              "    <tr>\n",
              "      <th>4</th>\n",
              "      <td>2016010000018</td>\n",
              "      <td>510740.000</td>\n",
              "      <td>177230.000</td>\n",
              "      <td>-0.407</td>\n",
              "      <td>51.483</td>\n",
              "      <td>1</td>\n",
              "      <td>3</td>\n",
              "      <td>2</td>\n",
              "      <td>1</td>\n",
              "      <td>01/11/2016</td>\n",
              "      <td>3</td>\n",
              "      <td>07:53</td>\n",
              "      <td>25</td>\n",
              "      <td>E09000018</td>\n",
              "      <td>3</td>\n",
              "      <td>312</td>\n",
              "      <td>3</td>\n",
              "      <td>40.000</td>\n",
              "      <td>0</td>\n",
              "      <td>-1</td>\n",
              "      <td>-1</td>\n",
              "      <td>0</td>\n",
              "      <td>0</td>\n",
              "      <td>0</td>\n",
              "      <td>1</td>\n",
              "      <td>1</td>\n",
              "      <td>1</td>\n",
              "      <td>0</td>\n",
              "      <td>0</td>\n",
              "      <td>1</td>\n",
              "      <td>1</td>\n",
              "    </tr>\n",
              "  </tbody>\n",
              "</table>\n",
              "</div>"
            ],
            "text/plain": [
              "  Accident_Index  ...  Did_Police_Officer_Attend_Scene_of_Accident\n",
              "0  2016010000005  ...                                            1\n",
              "1  2016010000006  ...                                            1\n",
              "2  2016010000008  ...                                            1\n",
              "3  2016010000016  ...                                            1\n",
              "4  2016010000018  ...                                            1\n",
              "\n",
              "[5 rows x 31 columns]"
            ]
          },
          "metadata": {
            "tags": []
          },
          "execution_count": 12
        }
      ]
    },
    {
      "cell_type": "markdown",
      "metadata": {
        "id": "w2UmMchM823p",
        "colab_type": "text"
      },
      "source": [
        "## Step 3: Data Analysis"
      ]
    },
    {
      "cell_type": "markdown",
      "metadata": {
        "id": "WnJAfe9M9OTq",
        "colab_type": "text"
      },
      "source": [
        "#### Step 3-0: Aggregation (re-define)\n",
        "Original accident severty contains 3 levels: Fatal (1)/ Serious (2)/ Slight (3);\\\n",
        "New accident severty contains 2 levels: Fatal OR Serious (1)/ Slight (0)."
      ]
    },
    {
      "cell_type": "code",
      "metadata": {
        "id": "J13RQvYJjjU3",
        "colab_type": "code",
        "colab": {
          "base_uri": "https://localhost:8080/",
          "height": 170
        },
        "outputId": "e3acfc3e-5d06-4630-8d7e-f51b359ee6da"
      },
      "source": [
        "# re-define the index of levels to 0 and 1\n",
        "df['Serious_Accident'] = 1\n",
        "df['Serious_Accident'][df['Accident_Severity'] == 3] = 0\n",
        "print('Count of outcome variable: \\n', df['Serious_Accident'].value_counts())"
      ],
      "execution_count": 13,
      "outputs": [
        {
          "output_type": "stream",
          "text": [
            "Count of outcome variable: \n",
            " 0    113160\n",
            "1     23415\n",
            "Name: Serious_Accident, dtype: int64\n"
          ],
          "name": "stdout"
        },
        {
          "output_type": "stream",
          "text": [
            "/usr/local/lib/python3.6/dist-packages/ipykernel_launcher.py:2: SettingWithCopyWarning: \n",
            "A value is trying to be set on a copy of a slice from a DataFrame\n",
            "\n",
            "See the caveats in the documentation: https://pandas.pydata.org/pandas-docs/stable/user_guide/indexing.html#returning-a-view-versus-a-copy\n",
            "  \n"
          ],
          "name": "stderr"
        }
      ]
    },
    {
      "cell_type": "code",
      "metadata": {
        "id": "VYF0nc-N_TQb",
        "colab_type": "code",
        "colab": {
          "base_uri": "https://localhost:8080/",
          "height": 389
        },
        "outputId": "00e0c9f1-c060-4905-f98e-0f2141f4c1e1"
      },
      "source": [
        "# Count plot \n",
        "plt.figure(figsize=(6,6))\n",
        "ax = sns.countplot(x=df.Serious_Accident)\n",
        "\n",
        "# get the percentage above each histogram\n",
        "for p in ax.patches:\n",
        "    x = p.get_bbox().get_points()[:,0]\n",
        "    y = p.get_bbox().get_points()[1,1]\n",
        "    ax.annotate('{:.1f}%'.format(100. * y / df['Serious_Accident'].value_counts().sum()), (x.mean(), y),\n",
        "                ha='center', va='bottom') # set the alignment of the text\n",
        "plt.show()"
      ],
      "execution_count": 16,
      "outputs": [
        {
          "output_type": "display_data",
          "data": {
            "image/png": "[encoded data removed]",
            "text/plain": [
              "<Figure size 432x432 with 1 Axes>"
            ]
          },
          "metadata": {
            "tags": []
          }
        }
      ]
    },
    {
      "cell_type": "markdown",
      "metadata": {
        "id": "EQwauNc2aOz6",
        "colab_type": "text"
      },
      "source": [
        "#### Step 3-1: Observing "
      ]
    },
    {
      "cell_type": "markdown",
      "metadata": {
        "id": "ZMFcBsV6af3h",
        "colab_type": "text"
      },
      "source": [
        "**Latitude & Longitude**"
      ]
    },
    {
      "cell_type": "code",
      "metadata": {
        "id": "Ci6dXMBDavbr",
        "colab_type": "code",
        "colab": {}
      },
      "source": [
        "# rename samples for convenience\n",
        "slight = df[df['Serious_Accident'] == 0]\n",
        "serious = df[df['Serious_Accident'] == 1] # slight and serious are dataframes"
      ],
      "execution_count": 17,
      "outputs": []
    },
    {
      "cell_type": "code",
      "metadata": {
        "id": "a158Lag7b1nG",
        "colab_type": "code",
        "colab": {
          "base_uri": "https://localhost:8080/",
          "height": 350
        },
        "outputId": "9890ede0-7761-4353-8be4-06f7313836b0"
      },
      "source": [
        "plt.figure(figsize=(10,5))\n",
        "# Latitude\n",
        "slight.Latitude.plot.density(label=\"slight accidents\")\n",
        "serious.Latitude.plot.density(label=\"Fatal/Serious accidents\")\n",
        "plt.legend()\n",
        "plt.title('Distribution plot: Latitude by the serverity of accidents')\n",
        "plt.xlim((49, 59))\n",
        "plt.xlabel(\"Latitude\")\n",
        "plt.show()"
      ],
      "execution_count": 25,
      "outputs": [
        {
          "output_type": "display_data",
          "data": {
            "image/png": "[encoded data removed]",
            "text/plain": [
              "<Figure size 720x360 with 1 Axes>"
            ]
          },
          "metadata": {
            "tags": []
          }
        }
      ]
    },
    {
      "cell_type": "code",
      "metadata": {
        "id": "t1AFdcsOdoJn",
        "colab_type": "code",
        "colab": {}
      },
      "source": [
        ""
      ],
      "execution_count": null,
      "outputs": []
    }
  ]
}